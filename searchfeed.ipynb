{
 "cells": [
  {
   "cell_type": "code",
   "execution_count": 1,
   "metadata": {},
   "outputs": [],
   "source": [
    "import xml.etree.ElementTree as ET"
   ]
  },
  {
   "cell_type": "code",
   "execution_count": 2,
   "metadata": {},
   "outputs": [],
   "source": [
    "feed_url = 'https://cdn.marschannels.com/files/feed/omjwr7pvui.xml'"
   ]
  },
  {
   "cell_type": "code",
   "execution_count": 4,
   "metadata": {},
   "outputs": [],
   "source": [
    "# tree = ET.parse(feed_url)\n",
    "\n",
    "# root = tree.getroot()\n",
    "\n",
    "# print(root.tag, root.attrib)"
   ]
  },
  {
   "cell_type": "code",
   "execution_count": null,
   "metadata": {},
   "outputs": [],
   "source": []
  },
  {
   "cell_type": "markdown",
   "metadata": {},
   "source": [
    "# Option 2"
   ]
  },
  {
   "cell_type": "code",
   "execution_count": 1,
   "metadata": {},
   "outputs": [],
   "source": [
    "import requests\n",
    "import pandas as pd\n",
    "from requests_html import HTML\n",
    "from requests_html import HTMLSession"
   ]
  },
  {
   "cell_type": "code",
   "execution_count": 2,
   "metadata": {},
   "outputs": [],
   "source": [
    "url = 'https://cdn.marschannels.com/files/feed/omjwr7pvui.xml'"
   ]
  },
  {
   "cell_type": "code",
   "execution_count": 3,
   "metadata": {},
   "outputs": [],
   "source": [
    "def get_source(url):\n",
    "    \"\"\"Return the source code for the provided URL. \n",
    "\n",
    "    Args: \n",
    "        url (string): URL of the page to scrape.\n",
    "\n",
    "    Returns:\n",
    "        response (object): HTTP response object from requests_html. \n",
    "    \"\"\"\n",
    "\n",
    "    try:\n",
    "        session = HTMLSession()\n",
    "        response = session.get(url)\n",
    "        return response\n",
    "\n",
    "    except requests.exceptions.RequestException as e:\n",
    "        print(e)"
   ]
  },
  {
   "cell_type": "code",
   "execution_count": 5,
   "metadata": {},
   "outputs": [],
   "source": [
    "def get_feed(url):\n",
    "    \"\"\"Return a Pandas dataframe containing the RSS feed contents.\n",
    "\n",
    "    Args: \n",
    "        url (string): URL of the RSS feed to read.\n",
    "\n",
    "    Returns:\n",
    "        df (dataframe): Pandas dataframe containing the RSS feed contents.\n",
    "    \"\"\"\n",
    "    \n",
    "    response = get_source(url)\n",
    "    \n",
    "    df = pd.DataFrame(columns = ['title', 'pubDate', 'guid', 'description'])\n",
    "\n",
    "    with response as r:\n",
    "        items = r.html.find(\"item\", first=False)\n",
    "\n",
    "        for item in items:        \n",
    "\n",
    "            title = item.find('title', first=True).text\n",
    "            pubDate = item.find('pubDate', first=True).text\n",
    "            guid = item.find('guid', first=True).text\n",
    "            description = item.find('description', first=True).text\n",
    "\n",
    "            row = {'title': title, 'pubDate': pubDate, 'guid': guid, 'description': description}\n",
    "            df = df.append(row, ignore_index=True)\n",
    "\n",
    "    return df"
   ]
  },
  {
   "cell_type": "code",
   "execution_count": 6,
   "metadata": {},
   "outputs": [],
   "source": [
    "df = get_feed(url)\n",
    "\n",
    "df.head()"
   ]
  }
 ],
 "metadata": {
  "kernelspec": {
   "display_name": "Python 3.9.7 ('base')",
   "language": "python",
   "name": "python3"
  },
  "language_info": {
   "codemirror_mode": {
    "name": "ipython",
    "version": 3
   },
   "file_extension": ".py",
   "mimetype": "text/x-python",
   "name": "python",
   "nbconvert_exporter": "python",
   "pygments_lexer": "ipython3",
   "version": "3.9.7"
  },
  "orig_nbformat": 4,
  "vscode": {
   "interpreter": {
    "hash": "292e10db6c55e702485e6f88c4d9b004f91598dfe10b635d4aed6659d5e24059"
   }
  }
 },
 "nbformat": 4,
 "nbformat_minor": 2
}
